{
  "nbformat": 4,
  "nbformat_minor": 0,
  "metadata": {
    "colab": {
      "provenance": [],
      "name": "demo",
      "authorship_tag": "ABX9TyPBxJcu6rE/pAGct8d0x26U",
      "include_colab_link": true
    },
    "kernelspec": {
      "name": "python3",
      "display_name": "Python 3"
    },
    "language_info": {
      "name": "python"
    }
  },
  "cells": [
    {
      "cell_type": "markdown",
      "metadata": {
        "id": "view-in-github",
        "colab_type": "text"
      },
      "source": [
        "<a href=\"https://colab.research.google.com/github/palashscripts/digitalbite.github.io/blob/master/demo.ipynb\" target=\"_parent\"><img src=\"https://colab.research.google.com/assets/colab-badge.svg\" alt=\"Open In Colab\"/></a>"
      ]
    },
    {
      "cell_type": "code",
      "source": [
        "print(\"hello\")"
      ],
      "metadata": {
        "colab": {
          "base_uri": "https://localhost:8080/"
        },
        "id": "QNrwOwJlfKj4",
        "outputId": "a94b1d15-edc0-4f91-ef55-13a01d996043"
      },
      "execution_count": null,
      "outputs": [
        {
          "output_type": "stream",
          "name": "stdout",
          "text": [
            "hello\n"
          ]
        }
      ]
    },
    {
      "cell_type": "code",
      "source": [
        "print(35+23)# print sum\n",
        "a=12\n",
        "b=23\n",
        "#sum=a+b\n",
        "#print(sum)\n",
        "diff=a-b\n",
        "print(diff)\n"
      ],
      "metadata": {
        "colab": {
          "base_uri": "https://localhost:8080/"
        },
        "id": "uCDoiRnsiwIl",
        "outputId": "82c6a2ef-4c75-4626-8e06-57a71068fb14"
      },
      "execution_count": null,
      "outputs": [
        {
          "output_type": "stream",
          "name": "stdout",
          "text": [
            "58\n",
            "-11\n"
          ]
        }
      ]
    },
    {
      "cell_type": "code",
      "source": [
        "name =\"palash\"\n",
        "age = 24\n",
        "price = 25.2\n",
        "\n",
        "print(type(name))\n",
        "print(type(age))\n",
        "print(type(price))"
      ],
      "metadata": {
        "colab": {
          "base_uri": "https://localhost:8080/"
        },
        "id": "Kwj0Bb83px-Y",
        "outputId": "d10c5327-f114-4107-b9ba-eaa05f50af12"
      },
      "execution_count": null,
      "outputs": [
        {
          "output_type": "stream",
          "name": "stdout",
          "text": [
            "<class 'str'>\n",
            "<class 'int'>\n",
            "<class 'float'>\n"
          ]
        }
      ]
    },
    {
      "cell_type": "code",
      "source": [
        "age=24\n",
        "old=False\n",
        "a=None\n",
        "print(type(age))\n",
        "print(type(old))\n",
        "print(type(a))"
      ],
      "metadata": {
        "colab": {
          "base_uri": "https://localhost:8080/"
        },
        "id": "Z-ujDksqqW_I",
        "outputId": "dabc1092-d79d-408b-90dd-2a2f777db54c"
      },
      "execution_count": null,
      "outputs": [
        {
          "output_type": "stream",
          "name": "stdout",
          "text": [
            "<class 'int'>\n",
            "<class 'bool'>\n",
            "<class 'NoneType'>\n"
          ]
        }
      ]
    },
    {
      "cell_type": "code",
      "source": [
        "#comment in python its sinle line comment\n",
        "# '''This is multi\n",
        "#  line\n",
        "#   comment''' cltl+/"
      ],
      "metadata": {
        "id": "ryuwFsZxsXBi"
      },
      "execution_count": null,
      "outputs": []
    },
    {
      "cell_type": "code",
      "source": [
        "#logical operators\n",
        "print(not False)\n",
        "print(not True)\n",
        "\n",
        "\n",
        "a=True\n",
        "b=False\n",
        "print(\"OR operator:\", a or b)\n",
        "print(\"AND operator:\", a and b)"
      ],
      "metadata": {
        "colab": {
          "base_uri": "https://localhost:8080/"
        },
        "id": "ICjSG0IBuR-n",
        "outputId": "9df1ee6a-eae2-4ba6-822b-4353475a6db8"
      },
      "execution_count": null,
      "outputs": [
        {
          "output_type": "stream",
          "name": "stdout",
          "text": [
            "True\n",
            "False\n",
            "OR operator: True\n",
            "AND operator: False\n"
          ]
        }
      ]
    }
  ]
}